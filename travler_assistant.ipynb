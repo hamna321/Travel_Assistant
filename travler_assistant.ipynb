{
  "nbformat": 4,
  "nbformat_minor": 0,
  "metadata": {
    "colab": {
      "provenance": []
    },
    "kernelspec": {
      "name": "python3",
      "display_name": "Python 3"
    },
    "language_info": {
      "name": "python"
    }
  },
  "cells": [
    {
      "cell_type": "markdown",
      "source": [
        "**Install Dependencies**"
      ],
      "metadata": {
        "id": "8cBmTfAlf_KK"
      }
    },
    {
      "cell_type": "code",
      "execution_count": null,
      "metadata": {
        "id": "toEGAjYVf5kf"
      },
      "outputs": [],
      "source": [
        "!pip install groq\n",
        "!pip install datasets"
      ]
    },
    {
      "cell_type": "markdown",
      "source": [
        "**For dataset use Hugging Face model**\n",
        "\n",
        "*   https://huggingface.co/datasets/osunlp/TravelPlanner\n",
        "\n",
        "\n"
      ],
      "metadata": {
        "id": "W2xP6Ax7VxKe"
      }
    },
    {
      "cell_type": "code",
      "source": [
        "from groq import Groq\n",
        "from datasets import load_dataset\n",
        "import os\n",
        "\n",
        "client = Groq(api_key=\"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\")\n",
        "\n",
        "train_ds = load_dataset(\"osunlp/TravelPlanner\", \"train\")\n",
        "test_ds = load_dataset(\"osunlp/TravelPlanner\", \"test\")\n",
        "validation_ds = load_dataset(\"osunlp/TravelPlanner\", \"validation\")\n",
        "\n",
        "print(train_ds['train'][0])\n",
        "\n",
        "def retrieve_travel_data(dest, days, people_number, local_constraint):\n",
        "    filtered_data = train_ds['train'].filter(lambda example: dest in example.get('destination', ''))\n",
        "    return [item['annotated_plan'] for item in filtered_data][:3]\n",
        "\n",
        "def get_travel_recommendations(org, dest, days, visiting_city_number, date, people_number, local_constraint, query):\n",
        "    retrieved_info = retrieve_travel_data(dest, days, people_number, local_constraint)\n",
        "    prompt = f\"\"\"\n",
        "    I am planning a trip from {org} to {dest} for {days} days.\n",
        "    The trip includes {visiting_city_number} cities, starting on {date}, with {people_number} people.\n",
        "    The constraints include: {local_constraint}.\n",
        "    Here is some relevant travel information: {retrieved_info}.\n",
        "    My query is: {query}.\n",
        "    Please provide a travel plan that complies with all these requirements.\n",
        "    \"\"\"\n",
        "    chat_completion = client.chat.completions.create(\n",
        "        messages=[\n",
        "            {\n",
        "                \"role\": \"user\",\n",
        "                \"content\": prompt,\n",
        "            }\n",
        "        ],\n",
        "        model=\"llama-3.1-70b-versatile\",\n",
        "    )\n",
        "    return chat_completion.choices[0].message.content\n",
        "\n",
        "org = input(\"Enter the city of origin: \")\n",
        "dest = input(\"Enter the destination city: \")\n",
        "days = int(input(\"Enter the number of days: \"))\n",
        "visiting_city_number = int(input(\"Enter the number of cities to visit: \"))\n",
        "date = input(\"Enter the start date (YYYY-MM-DD): \")\n",
        "people_number = int(input(\"Enter the number of people: \"))\n",
        "local_constraint = input(\"Enter any local constraints (e.g., dietary restrictions, transportation preferences): \")\n",
        "query = input(\"Enter your travel query (e.g., what to visit, where to stay): \")\n",
        "\n",
        "recommendations = get_travel_recommendations(org, dest, days, visiting_city_number, date, people_number, local_constraint, query)\n",
        "\n",
        "print(\"\\nTravel Recommendations:\\n\")\n",
        "print(recommendations)\n"
      ],
      "metadata": {
        "id": "yQLhN3J-lXGY"
      },
      "execution_count": null,
      "outputs": []
    },
    {
      "cell_type": "markdown",
      "source": [
        "***For creating Streamlit Environment using Colab ***"
      ],
      "metadata": {
        "id": "U3IULPI9WNmK"
      }
    },
    {
      "cell_type": "code",
      "source": [
        "#!pip install streamlit -q\n",
        "#!wget -q -O - ipv4.icanhazip.com\n",
        "#streamlit run app.py & npx localtunnel --port 8501"
      ],
      "metadata": {
        "id": "m6nnfBiXsh_L"
      },
      "execution_count": null,
      "outputs": []
    },
    {
      "cell_type": "markdown",
      "source": [
        "**For Github**  \n",
        "\n",
        "*   Create a file named as app.py in folder section of colab\n",
        "Transfer the file from colab to github\n",
        "\n",
        "\n",
        "*   create a file name as requirements.txt\n",
        "add the name of dependencies\n",
        "\n",
        "1.   streamlit\n",
        "2.   datasets\n",
        "3.   groq\n",
        "\n",
        "\n",
        "\n",
        "\n"
      ],
      "metadata": {
        "id": "z1uf_agVWm-i"
      }
    },
    {
      "cell_type": "markdown",
      "source": [
        "**Streamlit Code app.py**"
      ],
      "metadata": {
        "id": "8lfC1YkRXoid"
      }
    },
    {
      "cell_type": "code",
      "source": [
        "\n",
        "import streamlit as st\n",
        "from groq import Groq\n",
        "from datasets import load_dataset\n",
        "\n",
        "# Initialize the Groq client\n",
        "client = Groq(api_key=\"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\")\n",
        "\n",
        "# Load the dataset\n",
        "@st.cache_resource\n",
        "def load_data():\n",
        "    train_ds = load_dataset(\"osunlp/TravelPlanner\", \"train\")\n",
        "    return train_ds['train']\n",
        "\n",
        "train_ds = load_data()\n",
        "\n",
        "def retrieve_travel_data(dest, days, people_number, local_constraint):\n",
        "    filtered_data = train_ds.filter(lambda example: dest in example.get('destination', ''))\n",
        "    return [item['annotated_plan'] for item in filtered_data][:3]\n",
        "\n",
        "def get_travel_recommendations(org, dest, days, visiting_city_number, date, people_number, local_constraint, query):\n",
        "    retrieved_info = retrieve_travel_data(dest, days, people_number, local_constraint)\n",
        "    prompt = f\"\"\"\n",
        "    I am planning a trip from {org} to {dest} for {days} days.\n",
        "    The trip includes {visiting_city_number} cities, starting on {date}, with {people_number} people.\n",
        "    The constraints include: {local_constraint}.\n",
        "    Here is some relevant travel information: {retrieved_info}.\n",
        "    My query is: {query}.\n",
        "    Please provide a travel plan that complies with all these requirements.\n",
        "    \"\"\"\n",
        "    chat_completion = client.chat.completions.create(\n",
        "        messages=[\n",
        "            {\n",
        "                \"role\": \"user\",\n",
        "                \"content\": prompt,\n",
        "            }\n",
        "        ],\n",
        "        model=\"llama-3.1-70b-versatile\",\n",
        "    )\n",
        "    return chat_completion.choices[0].message.content\n",
        "\n",
        "# Streamlit App\n",
        "st.title(\"Travel Planner\")\n",
        "\n",
        "org = st.text_input(\"Enter the city of origin:\")\n",
        "dest = st.text_input(\"Enter the destination city:\")\n",
        "days = st.number_input(\"Enter the number of days:\", min_value=1, value=1)\n",
        "visiting_city_number = st.number_input(\"Enter the number of cities to visit:\", min_value=1, value=1)\n",
        "date = st.date_input(\"Enter the start date:\")\n",
        "people_number = st.number_input(\"Enter the number of people:\", min_value=1, value=1)\n",
        "local_constraint = st.text_input(\"Enter any local constraints (e.g., dietary restrictions, transportation preferences):\")\n",
        "query = st.text_input(\"Enter your travel query (e.g., what to visit, where to stay):\")\n",
        "\n",
        "if st.button(\"Get Recommendations\"):\n",
        "    if not org or not dest or not query:\n",
        "        st.error(\"Please fill out all required fields.\")\n",
        "    else:\n",
        "        recommendations = get_travel_recommendations(org, dest, days, visiting_city_number, date, people_number, local_constraint, query)\n",
        "        st.subheader(\"Travel Recommendations:\")\n",
        "        st.write(recommendations)\n"
      ],
      "metadata": {
        "id": "ml6ZxcXrNiPU"
      },
      "execution_count": null,
      "outputs": []
    }
  ]
}